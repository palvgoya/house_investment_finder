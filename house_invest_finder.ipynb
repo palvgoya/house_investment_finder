{
 "cells": [
  {
   "cell_type": "markdown",
   "metadata": {
    "id": "-a4w-_vyYFqH"
   },
   "source": [
    "## Crawler to get info from Trovit"
   ]
  },
  {
   "cell_type": "markdown",
   "metadata": {},
   "source": [
    "Install Libraries"
   ]
  },
  {
   "cell_type": "code",
   "execution_count": 2,
   "metadata": {
    "colab": {
     "base_uri": "https://localhost:8080/"
    },
    "id": "hpYyhyIbVnHM",
    "outputId": "e2c0458c-5e08-43fe-96b0-a444bff139f3",
    "scrolled": false
   },
   "outputs": [
    {
     "name": "stdout",
     "output_type": "stream",
     "text": [
      "Requirement already satisfied: selenium in /Users/pablogoya/opt/anaconda3/lib/python3.8/site-packages (3.141.0)\r\n",
      "Requirement already satisfied: urllib3 in /Users/pablogoya/opt/anaconda3/lib/python3.8/site-packages (from selenium) (1.25.9)\r\n"
     ]
    }
   ],
   "source": [
    "!pip install selenium"
   ]
  },
  {
   "cell_type": "code",
   "execution_count": 216,
   "metadata": {
    "id": "uRFjftnAU-sl"
   },
   "outputs": [],
   "source": [
    "import pandas as pd\n",
    "import numpy\n",
    "import time\n",
    "from random import randint\n",
    "from selenium import webdriver\n",
    "from selenium.webdriver.common.keys import Keys\n",
    "from bs4 import BeautifulSoup\n",
    "from selenium.webdriver.common.action_chains import ActionChains\n",
    "from selenium.common.exceptions import NoSuchElementException"
   ]
  },
  {
   "cell_type": "code",
   "execution_count": 144,
   "metadata": {
    "colab": {
     "base_uri": "https://localhost:8080/",
     "height": 528
    },
    "id": "q1AUxsH-VWnm",
    "outputId": "471a3f62-7334-451e-bbcf-38ea34ba6a38"
   },
   "outputs": [
    {
     "name": "stdout",
     "output_type": "stream",
     "text": [
      "Requirement already satisfied: webdriver-manager in /Users/pablogoya/opt/anaconda3/lib/python3.8/site-packages (3.2.2)\n",
      "Requirement already satisfied: configparser in /Users/pablogoya/opt/anaconda3/lib/python3.8/site-packages (from webdriver-manager) (5.0.1)\n",
      "Requirement already satisfied: crayons in /Users/pablogoya/opt/anaconda3/lib/python3.8/site-packages (from webdriver-manager) (0.4.0)\n",
      "Requirement already satisfied: requests in /Users/pablogoya/opt/anaconda3/lib/python3.8/site-packages (from webdriver-manager) (2.24.0)\n",
      "Requirement already satisfied: colorama in /Users/pablogoya/opt/anaconda3/lib/python3.8/site-packages (from crayons->webdriver-manager) (0.4.3)\n",
      "Requirement already satisfied: chardet<4,>=3.0.2 in /Users/pablogoya/opt/anaconda3/lib/python3.8/site-packages (from requests->webdriver-manager) (3.0.4)\n",
      "Requirement already satisfied: idna<3,>=2.5 in /Users/pablogoya/opt/anaconda3/lib/python3.8/site-packages (from requests->webdriver-manager) (2.10)\n",
      "Requirement already satisfied: certifi>=2017.4.17 in /Users/pablogoya/opt/anaconda3/lib/python3.8/site-packages (from requests->webdriver-manager) (2020.6.20)\n",
      "Requirement already satisfied: urllib3!=1.25.0,!=1.25.1,<1.26,>=1.21.1 in /Users/pablogoya/opt/anaconda3/lib/python3.8/site-packages (from requests->webdriver-manager) (1.25.9)\n"
     ]
    },
    {
     "name": "stderr",
     "output_type": "stream",
     "text": [
      "[WDM] - Current google-chrome version is 87.0.4280\n",
      "[WDM] - Get LATEST driver version for 87.0.4280\n",
      "[WDM] - Driver [/Users/pablogoya/.wdm/drivers/chromedriver/mac64/87.0.4280.88/chromedriver] found in cache\n"
     ]
    },
    {
     "name": "stdout",
     "output_type": "stream",
     "text": [
      " \n"
     ]
    }
   ],
   "source": [
    "#driver=webdriver.Chrome('/Users/pablogoya/Documents/Master DS/chromedriver')\n",
    "\n",
    "!pip install webdriver-manager\n",
    "from selenium import webdriver\n",
    "from webdriver_manager.chrome import ChromeDriverManager\n",
    "from webdriver_manager.utils import ChromeType\n",
    "\n",
    "driver = webdriver.Chrome(ChromeDriverManager(chrome_type=ChromeType.GOOGLE).install())\n",
    "\n",
    "driver.get('https://casas.trovit.es/')"
   ]
  },
  {
   "cell_type": "markdown",
   "metadata": {},
   "source": [
    "Defining scrapper function for Trovit"
   ]
  },
  {
   "cell_type": "code",
   "execution_count": 228,
   "metadata": {
    "id": "D-wO9IeRXBhz"
   },
   "outputs": [],
   "source": [
    "#Scrapping the Trovit website with multiple for loops\n",
    "\n",
    "def trvt_scrapper(min_size,max_size,pages):\n",
    "    \n",
    "    #Cleaning lists:\n",
    " \n",
    "    list_prices=[]\n",
    "    list_features=[]\n",
    "    list_locations=[]\n",
    "\n",
    "    list_prices_full=[]\n",
    "    list_features_full=[]\n",
    "    list_locations_full=[]\n",
    "\n",
    "#Scrapper with multiple for loops over the Trovit website\n",
    "\n",
    "#First loop goes through each page and adds up the data to be able to build the DataFrame\n",
    "    \n",
    "    for u in range (1,pages+1):\n",
    "\n",
    "        url1='https://casas.trovit.es/index.php/cod.search_homes/type.1/what_d.madrid/origin.2/price_min.100000/rooms_min.1/photo.1/area_min.'\n",
    "        url2='/area_max.'\n",
    "        url3='/bathrooms_min.1/order_by.relevance/region.Madrid/resultsPerPage.25/isUserSearch.1/page.'\n",
    "        driver.get(url+str(min_size)+url2+str(max_size)+url3+str(u))\n",
    "        \n",
    "    #This is just to avoid robot blocking your IP\n",
    "        time.sleep(randint(1,5))\n",
    "\n",
    "    #This loop scrolls down automatically to replicate users browsing behaviour\n",
    "\n",
    "        for i in range (randint(8,13)):\n",
    "\n",
    "            html_txt=driver.page_source\n",
    "            soup=BeautifulSoup(html_txt)\n",
    "        \n",
    "        #Create the BeautifulSoup searches\n",
    "\n",
    "            locations=soup.find_all(attrs={'itemprop': 'address'})\n",
    "            prices=soup.find_all('span',class_=\"amount\")  \n",
    "            features=soup.find_all('div' ,class_=\"property\")\n",
    "            \n",
    "            list_prices=[]\n",
    "            list_locations=[]\n",
    "            list_features=[]\n",
    "\n",
    "        #Search across the page for these parameters\n",
    "        \n",
    "            for price in prices:\n",
    "                title1=price.getText()\n",
    "                list_prices.append(title1)\n",
    "            for feature in features:\n",
    "                title2=feature.getText()\n",
    "                list_features.append(title2)\n",
    "            for location in locations:\n",
    "                title3=location.getText()\n",
    "                list_locations.append(title3)\n",
    "\n",
    "            ActionChains(driver).key_down(Keys.PAGE_DOWN).key_up(Keys.PAGE_DOWN).perform()\n",
    "            time.sleep(randint(1,10)/10)\n",
    "\n",
    "    #Put all the data together, one page per loop, to pass it to the next step and build the dataset\n",
    "\n",
    "        list_prices_full=list_prices_full+list_prices\n",
    "        list_features_full=list_features_full+list_features\n",
    "        list_locations_full=list_locations_full+list_locations\n",
    "\n",
    "    \n",
    "#Building the full DataFrame with all read data through the scrapper\n",
    "\n",
    "    list_locations_full= [i.split(',', 1)[0] for i in list_locations_full]\n",
    "    list_locations_full= [x.strip(' ') for x in list_locations_full]\n",
    "\n",
    "    list_features_full_splitted = [list_features_full[i*3:(i+1)*3] for i in range((len(list_features_full)+3-1)//3)] \n",
    "    features_df= pd.DataFrame(list_features_full_splitted)\n",
    "    features_df.columns= ['rooms','bathrooms','size']\n",
    "\n",
    "    houses_list_full=[list_prices_full,list_locations_full]\n",
    "    result_trvt_df=pd.DataFrame()\n",
    "    result_trvt_df=pd.DataFrame (houses_list_full).transpose()\n",
    "    result_trvt_df.columns=['prices','post_code']\n",
    "    result_trvt_df= pd.concat([result_trvt_df, features_df], axis=1)   \n",
    "              \n",
    "\n",
    "    return result_trvt_df \n"
   ]
  },
  {
   "cell_type": "code",
   "execution_count": 229,
   "metadata": {},
   "outputs": [],
   "source": [
    "df_mad_40_60=trvt_scrapper(40,60,100)\n",
    "time.sleep(randint(60,120))"
   ]
  },
  {
   "cell_type": "code",
   "execution_count": 230,
   "metadata": {},
   "outputs": [],
   "source": [
    "df_mad_60_80=trvt_scrapper(60,80,100)\n",
    "time.sleep(randint(60,120))"
   ]
  },
  {
   "cell_type": "code",
   "execution_count": 231,
   "metadata": {},
   "outputs": [],
   "source": [
    "df_mad_80_100=trvt_scrapper(80,100,100)"
   ]
  },
  {
   "cell_type": "code",
   "execution_count": 306,
   "metadata": {},
   "outputs": [],
   "source": [
    "df_mad_over100k=pd.concat([df_mad_40_60,df_mad_60_80,df_mad_80_100])"
   ]
  },
  {
   "cell_type": "code",
   "execution_count": 308,
   "metadata": {},
   "outputs": [],
   "source": [
    "post_codes_spain=pd.read_csv('listado_codigos_postales_latlon.csv',sep=';')"
   ]
  },
  {
   "cell_type": "code",
   "execution_count": 309,
   "metadata": {},
   "outputs": [
    {
     "data": {
      "text/plain": [
       "Index(['provincia', 'poblacion', 'codigopostalid', 'lat', 'lon'], dtype='object')"
      ]
     },
     "execution_count": 309,
     "metadata": {},
     "output_type": "execute_result"
    }
   ],
   "source": [
    "post_codes_spain.columns"
   ]
  },
  {
   "cell_type": "code",
   "execution_count": 310,
   "metadata": {},
   "outputs": [
    {
     "data": {
      "text/plain": [
       "Index(['prices', 'post_code', 'rooms', 'bathrooms', 'size'], dtype='object')"
      ]
     },
     "execution_count": 310,
     "metadata": {},
     "output_type": "execute_result"
    }
   ],
   "source": [
    "df_mad_over100k.columns"
   ]
  },
  {
   "cell_type": "code",
   "execution_count": 311,
   "metadata": {},
   "outputs": [],
   "source": [
    "post_codes_spain=post_codes_spain.drop(columns=['provincia'])"
   ]
  },
  {
   "cell_type": "code",
   "execution_count": 312,
   "metadata": {},
   "outputs": [],
   "source": [
    "df_mad_over100k.post_code=df_mad_over100k.post_code.str.strip()"
   ]
  },
  {
   "cell_type": "code",
   "execution_count": 313,
   "metadata": {},
   "outputs": [],
   "source": [
    "df_mad_over100k.loc[df_mad_over100k['post_code'].str.contains('a'),['post_code']]='0'\n",
    "df_mad_over100k.loc[df_mad_over100k['post_code'].str.contains('e'),['post_code']]='0'\n",
    "df_mad_over100k.loc[df_mad_over100k['post_code'].str.contains('i'),['post_code']]='0'\n",
    "df_mad_over100k.loc[df_mad_over100k['post_code'].str.contains('o'),['post_code']]='0'\n",
    "df_mad_over100k.loc[df_mad_over100k['post_code'].str.contains('u'),['post_code']]='0'\n",
    "df_mad_over100k.loc[df_mad_over100k['post_code'].str.contains('á'),['post_code']]='0'\n",
    "df_mad_over100k.loc[df_mad_over100k['post_code'].str.contains('é'),['post_code']]='0'\n",
    "df_mad_over100k.loc[df_mad_over100k['post_code'].str.contains('í'),['post_code']]='0'\n",
    "df_mad_over100k.loc[df_mad_over100k['post_code'].str.contains('ó'),['post_code']]='0'\n",
    "df_mad_over100k.loc[df_mad_over100k['post_code'].str.contains('ú'),['post_code']]='0'"
   ]
  },
  {
   "cell_type": "code",
   "execution_count": 314,
   "metadata": {},
   "outputs": [],
   "source": [
    "df_mad_over100k['post_code']=df_mad_over100k['post_code'].astype(int)"
   ]
  },
  {
   "cell_type": "code",
   "execution_count": 315,
   "metadata": {},
   "outputs": [
    {
     "data": {
      "text/plain": [
       "0        616\n",
       "28025    321\n",
       "28022    310\n",
       "28004    260\n",
       "28017    257\n",
       "        ... \n",
       "28815      1\n",
       "28936      1\n",
       "28413      1\n",
       "28794      1\n",
       "28570      1\n",
       "Name: post_code, Length: 180, dtype: int64"
      ]
     },
     "execution_count": 315,
     "metadata": {},
     "output_type": "execute_result"
    }
   ],
   "source": [
    "df_mad_over100k['post_code'].value_counts()"
   ]
  },
  {
   "cell_type": "code",
   "execution_count": 316,
   "metadata": {},
   "outputs": [],
   "source": [
    "df_mad_over100k=df_mad_over100k.merge(post_codes_spain,left_on='post_code',right_on='codigopostalid')"
   ]
  },
  {
   "cell_type": "code",
   "execution_count": 318,
   "metadata": {},
   "outputs": [
    {
     "data": {
      "text/plain": [
       "Index(['prices', 'post_code', 'rooms', 'bathrooms', 'size', 'poblacion',\n",
       "       'codigopostalid', 'lat', 'lon'],\n",
       "      dtype='object')"
      ]
     },
     "execution_count": 318,
     "metadata": {},
     "output_type": "execute_result"
    }
   ],
   "source": [
    "df_mad_over100k.columns"
   ]
  },
  {
   "cell_type": "code",
   "execution_count": 319,
   "metadata": {},
   "outputs": [
    {
     "data": {
      "text/plain": [
       "Madrid                   6767\n",
       "Las Rozas de Madrid       135\n",
       "Getafe                     99\n",
       "Alcalá de Henares          88\n",
       "Leganés                    68\n",
       "                         ... \n",
       "Paracuellos de Jarama       1\n",
       "Fresno de Torote            1\n",
       "Orusco de Tajuña            1\n",
       "Valdetorres de Jarama       1\n",
       "Navacerrada                 1\n",
       "Name: poblacion, Length: 82, dtype: int64"
      ]
     },
     "execution_count": 319,
     "metadata": {},
     "output_type": "execute_result"
    }
   ],
   "source": [
    "df_mad_over100k['poblacion'].value_counts()"
   ]
  },
  {
   "cell_type": "code",
   "execution_count": null,
   "metadata": {},
   "outputs": [],
   "source": [
    "df_mad_over100k"
   ]
  },
  {
   "cell_type": "markdown",
   "metadata": {},
   "source": [
    "Test Scrapper for Trovit with only first 3 pages to see how it works and show first results in a DataFrame"
   ]
  },
  {
   "cell_type": "code",
   "execution_count": 217,
   "metadata": {},
   "outputs": [],
   "source": [
    "#Cleaning lists:\n",
    "\n",
    "list_prices=[]\n",
    "list_features=[]\n",
    "list_latitudes=[]\n",
    "list_longitudes=[]\n",
    "list_locations=[]\n",
    "\n",
    "list_prices_full=[]\n",
    "list_features_full=[]\n",
    "list_latitudes_full=[]\n",
    "list_longitudes_full=[]\n",
    "list_locations_full=[]\n",
    "\n",
    "#Scrapper with multiple for loops over the Trovit website\n",
    "\n",
    "#First loop goes through each page and adds up the data to be able to build the DataFrame\n",
    "\n",
    "for u in range (1,10):\n",
    "\n",
    "    url='https://casas.trovit.es/index.php/cod.search_homes/type.1/what_d.madrid/origin.1/price_min.100000/rooms_min.1/photos.1/area_min.40/area_max.60/bathrooms_min.1/order_by.relevance/region.Madrid/resultsPerPage.25/isUserSearch.1/page.'\n",
    "    driver.get(url+str(u))\n",
    "    \n",
    "    list_prices_full=list_prices_full+list_prices\n",
    "    list_features_full=list_features_full+list_features\n",
    "    list_latitudes_full=list_latitudes_full+list_latitudes\n",
    "    list_longitudes_full=list_longitudes_full+list_longitudes\n",
    "    list_locations_full=list_locations_full+list_locations\n",
    "\n",
    "    locations=soup.find_all(attrs={'itemprop': 'address'})\n",
    "    prices=soup.find_all('span',class_=\"amount\")  \n",
    "    features=soup.find_all('div' ,class_=\"property\")\n",
    "    latitudes=soup.find_all('meta',attrs={'itemprop': 'latitude'}, content=True)\n",
    "    longitudes=soup.find_all('meta',attrs={'itemprop': 'longitude'}, content=True) \n",
    "    \n",
    "    time.sleep(randint(1,4))\n",
    "     \n",
    "    #Second loop scrolls automatically to replicate a user behaviour:\n",
    "    \n",
    "    for i in range (8):\n",
    "             \n",
    "        html_txt=driver.page_source\n",
    "        soup=BeautifulSoup(html_txt)  \n",
    "        \n",
    "        list_prices=[]\n",
    "        list_locations=[]\n",
    "        list_features=[]\n",
    "        list_latitudes=[]\n",
    "        list_longitudes=[]\n",
    "        \n",
    "        #This loops search for content in the page\n",
    "\n",
    "        for price in prices:\n",
    "            title1=price.getText()\n",
    "            list_prices.append(title1)\n",
    "        for feature in features:\n",
    "            title2=feature.getText()\n",
    "            list_features.append(title2)\n",
    "        for location in locations:\n",
    "            title3=location.getText()\n",
    "            list_locations.append(title3)\n",
    "        for latitude in latitudes:\n",
    "            title4=latitude.get('content')\n",
    "            list_latitudes.append(title4)\n",
    "        for longitude in longitudes:\n",
    "            title5=longitude.get('content')\n",
    "            list_longitudes.append(title5)\n",
    "\n",
    "        ActionChains(driver).key_down(Keys.PAGE_DOWN).key_up(Keys.PAGE_DOWN).perform()\n",
    "        time.sleep(randint(1,10)/10)   \n",
    "        "
   ]
  },
  {
   "cell_type": "code",
   "execution_count": 218,
   "metadata": {},
   "outputs": [
    {
     "data": {
      "text/html": [
       "<div>\n",
       "<style scoped>\n",
       "    .dataframe tbody tr th:only-of-type {\n",
       "        vertical-align: middle;\n",
       "    }\n",
       "\n",
       "    .dataframe tbody tr th {\n",
       "        vertical-align: top;\n",
       "    }\n",
       "\n",
       "    .dataframe thead th {\n",
       "        text-align: right;\n",
       "    }\n",
       "</style>\n",
       "<table border=\"1\" class=\"dataframe\">\n",
       "  <thead>\n",
       "    <tr style=\"text-align: right;\">\n",
       "      <th></th>\n",
       "      <th>prices</th>\n",
       "      <th>post_code</th>\n",
       "      <th>latitude</th>\n",
       "      <th>longitude</th>\n",
       "      <th>rooms</th>\n",
       "      <th>bathrooms</th>\n",
       "      <th>size</th>\n",
       "    </tr>\n",
       "  </thead>\n",
       "  <tbody>\n",
       "    <tr>\n",
       "      <th>0</th>\n",
       "      <td>184.000€</td>\n",
       "      <td>28012</td>\n",
       "      <td>40.41455339</td>\n",
       "      <td>-3.69499042</td>\n",
       "      <td>1 hab</td>\n",
       "      <td>1 wc</td>\n",
       "      <td>58 m²</td>\n",
       "    </tr>\n",
       "    <tr>\n",
       "      <th>1</th>\n",
       "      <td>116.900€</td>\n",
       "      <td>28037</td>\n",
       "      <td>40.42618850</td>\n",
       "      <td>-3.61629400</td>\n",
       "      <td>3 hab</td>\n",
       "      <td>1 wc</td>\n",
       "      <td>60 m²</td>\n",
       "    </tr>\n",
       "    <tr>\n",
       "      <th>2</th>\n",
       "      <td>109.200€</td>\n",
       "      <td>28038</td>\n",
       "      <td>40.39642662</td>\n",
       "      <td>-3.64093308</td>\n",
       "      <td>2 hab</td>\n",
       "      <td>1 wc</td>\n",
       "      <td>50 m²</td>\n",
       "    </tr>\n",
       "    <tr>\n",
       "      <th>3</th>\n",
       "      <td>116.900€</td>\n",
       "      <td>28037</td>\n",
       "      <td>40.42872662</td>\n",
       "      <td>-3.61591308</td>\n",
       "      <td>3 hab</td>\n",
       "      <td>1 wc</td>\n",
       "      <td>60 m²</td>\n",
       "    </tr>\n",
       "    <tr>\n",
       "      <th>4</th>\n",
       "      <td>112.062€</td>\n",
       "      <td>28031</td>\n",
       "      <td>40.37892762</td>\n",
       "      <td>-3.63187508</td>\n",
       "      <td>1 hab</td>\n",
       "      <td>1 wc</td>\n",
       "      <td>49 m²</td>\n",
       "    </tr>\n",
       "    <tr>\n",
       "      <th>5</th>\n",
       "      <td>230.000€</td>\n",
       "      <td>28012</td>\n",
       "      <td>40.41875082</td>\n",
       "      <td>-3.70286248</td>\n",
       "      <td>1 hab</td>\n",
       "      <td>1 wc</td>\n",
       "      <td>53 m²</td>\n",
       "    </tr>\n",
       "    <tr>\n",
       "      <th>6</th>\n",
       "      <td>122.400€</td>\n",
       "      <td>28019</td>\n",
       "      <td>40.38858759</td>\n",
       "      <td>-3.72159659</td>\n",
       "      <td>3 hab</td>\n",
       "      <td>1 wc</td>\n",
       "      <td>53 m²</td>\n",
       "    </tr>\n",
       "    <tr>\n",
       "      <th>7</th>\n",
       "      <td>135.000€</td>\n",
       "      <td>Comunidad de Madrid \\n</td>\n",
       "      <td>40.42529662</td>\n",
       "      <td>-3.69696308</td>\n",
       "      <td>2 hab</td>\n",
       "      <td>1 wc</td>\n",
       "      <td>46 m²</td>\n",
       "    </tr>\n",
       "    <tr>\n",
       "      <th>8</th>\n",
       "      <td>350.000€</td>\n",
       "      <td>28004</td>\n",
       "      <td>40.35596962</td>\n",
       "      <td>-3.68370808</td>\n",
       "      <td>2 hab</td>\n",
       "      <td>1 wc</td>\n",
       "      <td>56 m²</td>\n",
       "    </tr>\n",
       "    <tr>\n",
       "      <th>9</th>\n",
       "      <td>133.100€</td>\n",
       "      <td>28021</td>\n",
       "      <td>40.40004380</td>\n",
       "      <td>-3.76772096</td>\n",
       "      <td>1 hab</td>\n",
       "      <td>1 wc</td>\n",
       "      <td>48 m²</td>\n",
       "    </tr>\n",
       "    <tr>\n",
       "      <th>10</th>\n",
       "      <td>107.000€</td>\n",
       "      <td>28024</td>\n",
       "      <td>40.48982662</td>\n",
       "      <td>-3.68512308</td>\n",
       "      <td>3 hab</td>\n",
       "      <td>1 wc</td>\n",
       "      <td>54 m²</td>\n",
       "    </tr>\n",
       "    <tr>\n",
       "      <th>11</th>\n",
       "      <td>123.902€</td>\n",
       "      <td>28034</td>\n",
       "      <td>40.40915890</td>\n",
       "      <td>-3.73366580</td>\n",
       "      <td>3 hab</td>\n",
       "      <td>1 wc</td>\n",
       "      <td>60 m²</td>\n",
       "    </tr>\n",
       "    <tr>\n",
       "      <th>12</th>\n",
       "      <td>104.000€</td>\n",
       "      <td>28011</td>\n",
       "      <td>40.37718328</td>\n",
       "      <td>-3.74361360</td>\n",
       "      <td>1 hab</td>\n",
       "      <td>1 wc</td>\n",
       "      <td>51 m²</td>\n",
       "    </tr>\n",
       "    <tr>\n",
       "      <th>13</th>\n",
       "      <td>220.000€</td>\n",
       "      <td>28031</td>\n",
       "      <td>40.43479154</td>\n",
       "      <td>-3.65276335</td>\n",
       "      <td>1 hab</td>\n",
       "      <td>1 wc</td>\n",
       "      <td>51 m²</td>\n",
       "    </tr>\n",
       "    <tr>\n",
       "      <th>14</th>\n",
       "      <td>131.500€</td>\n",
       "      <td>28044</td>\n",
       "      <td>40.41574462</td>\n",
       "      <td>-3.70909018</td>\n",
       "      <td>3 hab</td>\n",
       "      <td>1 wc</td>\n",
       "      <td>60 m²</td>\n",
       "    </tr>\n",
       "    <tr>\n",
       "      <th>15</th>\n",
       "      <td>156.500€</td>\n",
       "      <td>28017</td>\n",
       "      <td>40.39662472</td>\n",
       "      <td>-3.69412104</td>\n",
       "      <td>2 hab</td>\n",
       "      <td>1 wc</td>\n",
       "      <td>58 m²</td>\n",
       "    </tr>\n",
       "    <tr>\n",
       "      <th>16</th>\n",
       "      <td>289.000€</td>\n",
       "      <td>28005</td>\n",
       "      <td>40.37752653</td>\n",
       "      <td>-3.73179994</td>\n",
       "      <td>1 hab</td>\n",
       "      <td>1 wc</td>\n",
       "      <td>60 m²</td>\n",
       "    </tr>\n",
       "    <tr>\n",
       "      <th>17</th>\n",
       "      <td>153.000€</td>\n",
       "      <td>28045</td>\n",
       "      <td>40.43400662</td>\n",
       "      <td>-3.67016308</td>\n",
       "      <td>3 hab</td>\n",
       "      <td>1 wc</td>\n",
       "      <td>53 m²</td>\n",
       "    </tr>\n",
       "    <tr>\n",
       "      <th>18</th>\n",
       "      <td>108.000€</td>\n",
       "      <td>28025</td>\n",
       "      <td>40.44318702</td>\n",
       "      <td>-3.64055258</td>\n",
       "      <td>3 hab</td>\n",
       "      <td>1 wc</td>\n",
       "      <td>55 m²</td>\n",
       "    </tr>\n",
       "    <tr>\n",
       "      <th>19</th>\n",
       "      <td>335.000€</td>\n",
       "      <td>28014</td>\n",
       "      <td>40.47170340</td>\n",
       "      <td>-3.65156350</td>\n",
       "      <td>2 hab</td>\n",
       "      <td>1 wc</td>\n",
       "      <td>60 m²</td>\n",
       "    </tr>\n",
       "    <tr>\n",
       "      <th>20</th>\n",
       "      <td>306.000€</td>\n",
       "      <td>28006</td>\n",
       "      <td>40.38575062</td>\n",
       "      <td>-3.71067638</td>\n",
       "      <td>2 hab</td>\n",
       "      <td>1 wc</td>\n",
       "      <td>60 m²</td>\n",
       "    </tr>\n",
       "    <tr>\n",
       "      <th>21</th>\n",
       "      <td>146.000€</td>\n",
       "      <td>28027</td>\n",
       "      <td>40.39118430</td>\n",
       "      <td>-3.73786530</td>\n",
       "      <td>2 hab</td>\n",
       "      <td>1 wc</td>\n",
       "      <td>53 m²</td>\n",
       "    </tr>\n",
       "    <tr>\n",
       "      <th>22</th>\n",
       "      <td>150.000€</td>\n",
       "      <td>28033</td>\n",
       "      <td>40.38575062</td>\n",
       "      <td>-3.71067638</td>\n",
       "      <td>2 hab</td>\n",
       "      <td>1 wc</td>\n",
       "      <td>50 m²</td>\n",
       "    </tr>\n",
       "    <tr>\n",
       "      <th>23</th>\n",
       "      <td>131.500€</td>\n",
       "      <td>28019</td>\n",
       "      <td>40.39682062</td>\n",
       "      <td>-3.69441708</td>\n",
       "      <td>1 hab</td>\n",
       "      <td>1 wc</td>\n",
       "      <td>42 m²</td>\n",
       "    </tr>\n",
       "    <tr>\n",
       "      <th>24</th>\n",
       "      <td>105.000€</td>\n",
       "      <td>28025</td>\n",
       "      <td>40.39037000</td>\n",
       "      <td>-3.73095000</td>\n",
       "      <td>2 hab</td>\n",
       "      <td>1 wc</td>\n",
       "      <td>57 m²</td>\n",
       "    </tr>\n",
       "    <tr>\n",
       "      <th>25</th>\n",
       "      <td>174.000€</td>\n",
       "      <td>28017</td>\n",
       "      <td>None</td>\n",
       "      <td>None</td>\n",
       "      <td>2 hab</td>\n",
       "      <td>1 wc</td>\n",
       "      <td>55 m²</td>\n",
       "    </tr>\n",
       "    <tr>\n",
       "      <th>26</th>\n",
       "      <td>131.500€</td>\n",
       "      <td>28019</td>\n",
       "      <td>None</td>\n",
       "      <td>None</td>\n",
       "      <td>1 hab</td>\n",
       "      <td>1 wc</td>\n",
       "      <td>40 m²</td>\n",
       "    </tr>\n",
       "    <tr>\n",
       "      <th>27</th>\n",
       "      <td>355.000€</td>\n",
       "      <td>28045</td>\n",
       "      <td>None</td>\n",
       "      <td>None</td>\n",
       "      <td>2 hab</td>\n",
       "      <td>2 wc</td>\n",
       "      <td>46 m²</td>\n",
       "    </tr>\n",
       "    <tr>\n",
       "      <th>28</th>\n",
       "      <td>165.000€</td>\n",
       "      <td>28019</td>\n",
       "      <td>None</td>\n",
       "      <td>None</td>\n",
       "      <td>1 hab</td>\n",
       "      <td>1 wc</td>\n",
       "      <td>44 m²</td>\n",
       "    </tr>\n",
       "  </tbody>\n",
       "</table>\n",
       "</div>"
      ],
      "text/plain": [
       "      prices               post_code     latitude    longitude     rooms  \\\n",
       "0   184.000€                   28012  40.41455339  -3.69499042   1 hab     \n",
       "1   116.900€                   28037  40.42618850  -3.61629400   3 hab     \n",
       "2   109.200€                   28038  40.39642662  -3.64093308   2 hab     \n",
       "3   116.900€                   28037  40.42872662  -3.61591308   3 hab     \n",
       "4   112.062€                   28031  40.37892762  -3.63187508   1 hab     \n",
       "5   230.000€                   28012  40.41875082  -3.70286248   1 hab     \n",
       "6   122.400€                   28019  40.38858759  -3.72159659   3 hab     \n",
       "7   135.000€  Comunidad de Madrid \\n  40.42529662  -3.69696308   2 hab     \n",
       "8   350.000€                   28004  40.35596962  -3.68370808   2 hab     \n",
       "9   133.100€                   28021  40.40004380  -3.76772096   1 hab     \n",
       "10  107.000€                   28024  40.48982662  -3.68512308   3 hab     \n",
       "11  123.902€                   28034  40.40915890  -3.73366580   3 hab     \n",
       "12  104.000€                   28011  40.37718328  -3.74361360   1 hab     \n",
       "13  220.000€                   28031  40.43479154  -3.65276335   1 hab     \n",
       "14  131.500€                   28044  40.41574462  -3.70909018   3 hab     \n",
       "15  156.500€                   28017  40.39662472  -3.69412104   2 hab     \n",
       "16  289.000€                   28005  40.37752653  -3.73179994   1 hab     \n",
       "17  153.000€                   28045  40.43400662  -3.67016308   3 hab     \n",
       "18  108.000€                   28025  40.44318702  -3.64055258   3 hab     \n",
       "19  335.000€                   28014  40.47170340  -3.65156350   2 hab     \n",
       "20  306.000€                   28006  40.38575062  -3.71067638   2 hab     \n",
       "21  146.000€                   28027  40.39118430  -3.73786530   2 hab     \n",
       "22  150.000€                   28033  40.38575062  -3.71067638   2 hab     \n",
       "23  131.500€                   28019  40.39682062  -3.69441708   1 hab     \n",
       "24  105.000€                   28025  40.39037000  -3.73095000   2 hab     \n",
       "25  174.000€                   28017         None         None   2 hab     \n",
       "26  131.500€                   28019         None         None   1 hab     \n",
       "27  355.000€                   28045         None         None   2 hab     \n",
       "28  165.000€                   28019         None         None   1 hab     \n",
       "\n",
       "   bathrooms   size  \n",
       "0     1 wc    58 m²  \n",
       "1     1 wc    60 m²  \n",
       "2     1 wc    50 m²  \n",
       "3     1 wc    60 m²  \n",
       "4     1 wc    49 m²  \n",
       "5     1 wc    53 m²  \n",
       "6     1 wc    53 m²  \n",
       "7     1 wc    46 m²  \n",
       "8     1 wc    56 m²  \n",
       "9     1 wc    48 m²  \n",
       "10    1 wc    54 m²  \n",
       "11    1 wc    60 m²  \n",
       "12    1 wc    51 m²  \n",
       "13    1 wc    51 m²  \n",
       "14    1 wc    60 m²  \n",
       "15    1 wc    58 m²  \n",
       "16    1 wc    60 m²  \n",
       "17    1 wc    53 m²  \n",
       "18    1 wc    55 m²  \n",
       "19    1 wc    60 m²  \n",
       "20    1 wc    60 m²  \n",
       "21    1 wc    53 m²  \n",
       "22    1 wc    50 m²  \n",
       "23    1 wc    42 m²  \n",
       "24    1 wc    57 m²  \n",
       "25    1 wc    55 m²  \n",
       "26    1 wc    40 m²  \n",
       "27    2 wc    46 m²  \n",
       "28    1 wc    44 m²  "
      ]
     },
     "execution_count": 218,
     "metadata": {},
     "output_type": "execute_result"
    }
   ],
   "source": [
    "#Building the full DataFrame with all read data through the scrapper\n",
    "\n",
    "list_locations_full= [i.split(',', 1)[0] for i in list_locations_full]\n",
    "list_locations_full= [x.strip(' ') for x in list_locations_full]\n",
    "\n",
    "list_features_full_splitted = [list_features_full[i*3:(i+1)*3] for i in range((len(list_features_full)+3-1)//3)] \n",
    "features_df= pd.DataFrame(list_features_full_splitted)\n",
    "features_df.columns= ['rooms','bathrooms','size']\n",
    "\n",
    "houses_list_full=[list_prices_full,list_locations_full,list_latitudes_full,list_longitudes_full]\n",
    "result_trvt_df=pd.DataFrame()\n",
    "result_trvt_df=pd.DataFrame (houses_list_full).transpose()\n",
    "result_trvt_df.columns=['prices','post_code','latitude','longitude']\n",
    "result_trvt_df= pd.concat([result_trvt_df, features_df], axis=1)  \n",
    "result_trvt_df"
   ]
  },
  {
   "cell_type": "code",
   "execution_count": null,
   "metadata": {},
   "outputs": [],
   "source": []
  }
 ],
 "metadata": {
  "colab": {
   "collapsed_sections": [],
   "name": "FotocasaCrawler.ipynb",
   "provenance": []
  },
  "kernelspec": {
   "display_name": "Python 3",
   "language": "python",
   "name": "python3"
  },
  "language_info": {
   "codemirror_mode": {
    "name": "ipython",
    "version": 3
   },
   "file_extension": ".py",
   "mimetype": "text/x-python",
   "name": "python",
   "nbconvert_exporter": "python",
   "pygments_lexer": "ipython3",
   "version": "3.8.3"
  }
 },
 "nbformat": 4,
 "nbformat_minor": 1
}
