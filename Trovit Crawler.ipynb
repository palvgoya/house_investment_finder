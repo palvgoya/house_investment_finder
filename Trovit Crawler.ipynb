{
 "cells": [
  {
   "cell_type": "markdown",
   "metadata": {
    "id": "-a4w-_vyYFqH"
   },
   "source": [
    "## Crawler to get info from Trovit"
   ]
  },
  {
   "cell_type": "markdown",
   "metadata": {},
   "source": [
    "Install Libraries"
   ]
  },
  {
   "cell_type": "code",
   "execution_count": 2,
   "metadata": {
    "colab": {
     "base_uri": "https://localhost:8080/"
    },
    "id": "hpYyhyIbVnHM",
    "outputId": "e2c0458c-5e08-43fe-96b0-a444bff139f3",
    "scrolled": false
   },
   "outputs": [
    {
     "name": "stdout",
     "output_type": "stream",
     "text": [
      "Requirement already satisfied: selenium in /Users/pablogoya/opt/anaconda3/lib/python3.8/site-packages (3.141.0)\r\n",
      "Requirement already satisfied: urllib3 in /Users/pablogoya/opt/anaconda3/lib/python3.8/site-packages (from selenium) (1.25.9)\r\n"
     ]
    }
   ],
   "source": [
    "!pip install selenium"
   ]
  },
  {
   "cell_type": "code",
   "execution_count": null,
   "metadata": {},
   "outputs": [],
   "source": [
    "!pip install webdriver-manager"
   ]
  },
  {
   "cell_type": "code",
   "execution_count": 2,
   "metadata": {
    "id": "uRFjftnAU-sl"
   },
   "outputs": [],
   "source": [
    "import pandas as pd\n",
    "import numpy\n",
    "import time\n",
    "from random import randint\n",
    "from selenium import webdriver\n",
    "from selenium.webdriver.common.keys import Keys\n",
    "from bs4 import BeautifulSoup\n",
    "from selenium.webdriver.common.action_chains import ActionChains\n",
    "from selenium.common.exceptions import NoSuchElementException"
   ]
  },
  {
   "cell_type": "code",
   "execution_count": 115,
   "metadata": {
    "colab": {
     "base_uri": "https://localhost:8080/",
     "height": 528
    },
    "id": "q1AUxsH-VWnm",
    "outputId": "471a3f62-7334-451e-bbcf-38ea34ba6a38"
   },
   "outputs": [
    {
     "name": "stderr",
     "output_type": "stream",
     "text": [
      "[WDM] - Current google-chrome version is 87.0.4280\n",
      "[WDM] - Get LATEST driver version for 87.0.4280\n",
      "[WDM] - Driver [/Users/pablogoya/.wdm/drivers/chromedriver/mac64/87.0.4280.88/chromedriver] found in cache\n"
     ]
    },
    {
     "name": "stdout",
     "output_type": "stream",
     "text": [
      " \n"
     ]
    }
   ],
   "source": [
    "from selenium import webdriver\n",
    "from webdriver_manager.chrome import ChromeDriverManager\n",
    "from webdriver_manager.utils import ChromeType\n",
    "\n",
    "driver = webdriver.Chrome(ChromeDriverManager(chrome_type=ChromeType.GOOGLE).install())\n",
    "\n",
    "driver.get('https://casas.trovit.es/')"
   ]
  },
  {
   "cell_type": "markdown",
   "metadata": {},
   "source": [
    "Defining scrapper function for Trovit"
   ]
  },
  {
   "cell_type": "code",
   "execution_count": 21,
   "metadata": {
    "id": "D-wO9IeRXBhz"
   },
   "outputs": [],
   "source": [
    "#Scrapping the Trovit website with multiple for loops\n",
    "\n",
    "def trvt_scrapper(min_size,max_size,pages):\n",
    "    \n",
    "    #driver.get('https://casas.trovit.es/')\n",
    "    \n",
    "    #Cleaning lists:\n",
    " \n",
    "    list_prices=[]\n",
    "    list_features=[]\n",
    "    list_locations=[]\n",
    "\n",
    "    list_prices_full=[]\n",
    "    list_features_full=[]\n",
    "    list_locations_full=[]\n",
    "\n",
    "#Scrapper with multiple for loops over the Trovit website\n",
    "\n",
    "#First loop goes through each page and adds up the data to be able to build the DataFrame\n",
    "    \n",
    "    for u in range (1,pages+1):\n",
    "\n",
    "        url1='https://casas.trovit.es/index.php/cod.search_homes/type.1/what_d.madrid/origin.2/price_min.100000/rooms_min.1/photo.1/area_min.'\n",
    "        url2='/area_max.'\n",
    "        url3='/bathrooms_min.1/order_by.relevance/region.Madrid/resultsPerPage.25/isUserSearch.1/page.'\n",
    "        driver.get(url1+str(min_size)+url2+str(max_size)+url3+str(u))\n",
    "        \n",
    "    #This is just to avoid robot blocking your IP\n",
    "        time.sleep(randint(1,6))\n",
    "\n",
    "    #This loop scrolls down automatically to replicate users browsing behaviour\n",
    "\n",
    "        for i in range (randint(8,13)):\n",
    "\n",
    "            html_txt=driver.page_source\n",
    "            soup=BeautifulSoup(html_txt)\n",
    "        \n",
    "        #Create the BeautifulSoup searches\n",
    "\n",
    "            locations=soup.find_all(attrs={'itemprop': 'address'})\n",
    "            prices=soup.find_all('span',class_=\"amount\")  \n",
    "            features=soup.find_all('div' ,class_=\"property\")\n",
    "            \n",
    "            list_prices=[]\n",
    "            list_locations=[]\n",
    "            list_features=[]\n",
    "\n",
    "        #Search across the page for these parameters\n",
    "        \n",
    "            for price in prices:\n",
    "                title1=price.getText()\n",
    "                list_prices.append(title1)\n",
    "            for feature in features:\n",
    "                title2=feature.getText()\n",
    "                list_features.append(title2)\n",
    "            for location in locations:\n",
    "                title3=location.getText()\n",
    "                list_locations.append(title3)\n",
    "\n",
    "            ActionChains(driver).key_down(Keys.PAGE_DOWN).key_up(Keys.PAGE_DOWN).perform()\n",
    "            time.sleep(randint(1,15)/10)\n",
    "\n",
    "    #Put all the data together, one page per loop, to pass it to the next step and build the dataset\n",
    "\n",
    "        list_prices_full=list_prices_full+list_prices\n",
    "        list_features_full=list_features_full+list_features\n",
    "        list_locations_full=list_locations_full+list_locations\n",
    "\n",
    "    \n",
    "#Building the full DataFrame with all read data through the scrapper\n",
    "\n",
    "    list_locations_full= [i.split(',', 1)[0] for i in list_locations_full]\n",
    "    list_locations_full= [x.strip(' ') for x in list_locations_full]\n",
    "\n",
    "    list_features_full_splitted = [list_features_full[i*3:(i+1)*3] for i in range((len(list_features_full)+3-1)//3)] \n",
    "    features_df= pd.DataFrame(list_features_full_splitted)\n",
    "    features_df.columns= ['rooms','bathrooms','size']\n",
    "\n",
    "    houses_list_full=[list_prices_full,list_locations_full]\n",
    "    result_trvt_df=pd.DataFrame()\n",
    "    result_trvt_df=pd.DataFrame (houses_list_full).transpose()\n",
    "    result_trvt_df.columns=['prices','post_code']\n",
    "    result_trvt_df= pd.concat([result_trvt_df, features_df], axis=1)   \n",
    "              \n",
    "\n",
    "    return result_trvt_df \n"
   ]
  },
  {
   "cell_type": "markdown",
   "metadata": {},
   "source": [
    "Building the dataset with consecutive searches using the Trovit scrapper"
   ]
  },
  {
   "cell_type": "code",
   "execution_count": 116,
   "metadata": {},
   "outputs": [],
   "source": [
    "df_mad_30_50=trvt_scrapper(30,50,100)\n",
    "time.sleep(randint(60,120))"
   ]
  },
  {
   "cell_type": "code",
   "execution_count": 117,
   "metadata": {},
   "outputs": [],
   "source": [
    "df_mad_50_60=trvt_scrapper(50,60,100)\n",
    "time.sleep(randint(60,120))"
   ]
  },
  {
   "cell_type": "code",
   "execution_count": 9,
   "metadata": {},
   "outputs": [],
   "source": [
    "df_mad_60_70=trvt_scrapper(60,70,100)\n",
    "time.sleep(randint(60,120))"
   ]
  },
  {
   "cell_type": "code",
   "execution_count": 118,
   "metadata": {},
   "outputs": [],
   "source": [
    "df_mad_70_75=trvt_scrapper(70,75,100)\n",
    "time.sleep(randint(60,120))"
   ]
  },
  {
   "cell_type": "code",
   "execution_count": 119,
   "metadata": {},
   "outputs": [],
   "source": [
    "df_mad_75_80=trvt_scrapper(75,80,100)\n",
    "time.sleep(randint(60,120))"
   ]
  },
  {
   "cell_type": "code",
   "execution_count": 14,
   "metadata": {},
   "outputs": [],
   "source": [
    "df_mad_80_85=trvt_scrapper(80,85,100)\n",
    "time.sleep(randint(60,120))"
   ]
  },
  {
   "cell_type": "code",
   "execution_count": 22,
   "metadata": {
    "scrolled": true
   },
   "outputs": [],
   "source": [
    "df_mad_85_90=trvt_scrapper(85,90,100)\n",
    "time.sleep(randint(60,120))"
   ]
  },
  {
   "cell_type": "code",
   "execution_count": 23,
   "metadata": {},
   "outputs": [],
   "source": [
    "df_mad_90_95=trvt_scrapper(90,95,100)\n",
    "time.sleep(randint(60,120))"
   ]
  },
  {
   "cell_type": "code",
   "execution_count": 142,
   "metadata": {},
   "outputs": [],
   "source": [
    "df_mad_95_100=trvt_scrapper(95,100,100)\n",
    "time.sleep(randint(60,120))"
   ]
  },
  {
   "cell_type": "code",
   "execution_count": 28,
   "metadata": {},
   "outputs": [],
   "source": [
    "df_mad_100_105=trvt_scrapper(100,105,100)\n",
    "time.sleep(randint(60,120))"
   ]
  },
  {
   "cell_type": "code",
   "execution_count": 31,
   "metadata": {},
   "outputs": [],
   "source": [
    "df_mad_105_110=trvt_scrapper(105,110,100)\n",
    "time.sleep(randint(60,120))"
   ]
  },
  {
   "cell_type": "code",
   "execution_count": 32,
   "metadata": {},
   "outputs": [],
   "source": [
    "df_mad_110_120=trvt_scrapper(110,120,100)\n",
    "time.sleep(randint(600,1200))"
   ]
  },
  {
   "cell_type": "code",
   "execution_count": 38,
   "metadata": {},
   "outputs": [],
   "source": [
    "df_mad_120_140=trvt_scrapper(120,140,100)\n",
    "time.sleep(randint(600,1200))"
   ]
  },
  {
   "cell_type": "code",
   "execution_count": 39,
   "metadata": {},
   "outputs": [],
   "source": [
    "df_mad_140_160=trvt_scrapper(140,160,100)\n",
    "time.sleep(randint(600,1200))"
   ]
  },
  {
   "cell_type": "code",
   "execution_count": 144,
   "metadata": {},
   "outputs": [],
   "source": [
    "df_mad_160_200=trvt_scrapper(160,200,100)"
   ]
  },
  {
   "cell_type": "code",
   "execution_count": 145,
   "metadata": {},
   "outputs": [
    {
     "name": "stdout",
     "output_type": "stream",
     "text": [
      "(2840, 5)\n",
      "(2820, 5)\n",
      "(2764, 5)\n",
      "(2884, 5)\n",
      "(2329, 5)\n",
      "(2840, 5)\n",
      "(2824, 5)\n",
      "(2812, 5)\n",
      "(2884, 5)\n",
      "(2800, 5)\n",
      "(2804, 5)\n",
      "(2788, 5)\n",
      "(2860, 5)\n",
      "(2804, 5)\n",
      "(2652, 5)\n"
     ]
    }
   ],
   "source": [
    "print(df_mad_30_50.shape)\n",
    "print(df_mad_50_60.shape)\n",
    "print(df_mad_60_70.shape)\n",
    "print(df_mad_70_75.shape)\n",
    "print(df_mad_75_80.shape)\n",
    "print(df_mad_80_85.shape)\n",
    "print(df_mad_85_90.shape)\n",
    "print(df_mad_90_95.shape)\n",
    "print(df_mad_95_100.shape)\n",
    "print(df_mad_100_105.shape)\n",
    "print(df_mad_105_110.shape)\n",
    "print(df_mad_110_120.shape)\n",
    "print(df_mad_120_140.shape)\n",
    "print(df_mad_140_160.shape)\n",
    "print(df_mad_160_200.shape)"
   ]
  },
  {
   "cell_type": "code",
   "execution_count": 146,
   "metadata": {},
   "outputs": [
    {
     "data": {
      "text/html": [
       "<div>\n",
       "<style scoped>\n",
       "    .dataframe tbody tr th:only-of-type {\n",
       "        vertical-align: middle;\n",
       "    }\n",
       "\n",
       "    .dataframe tbody tr th {\n",
       "        vertical-align: top;\n",
       "    }\n",
       "\n",
       "    .dataframe thead th {\n",
       "        text-align: right;\n",
       "    }\n",
       "</style>\n",
       "<table border=\"1\" class=\"dataframe\">\n",
       "  <thead>\n",
       "    <tr style=\"text-align: right;\">\n",
       "      <th></th>\n",
       "      <th>prices</th>\n",
       "      <th>post_code</th>\n",
       "      <th>rooms</th>\n",
       "      <th>bathrooms</th>\n",
       "      <th>size</th>\n",
       "    </tr>\n",
       "  </thead>\n",
       "  <tbody>\n",
       "    <tr>\n",
       "      <th>0</th>\n",
       "      <td>495.000€</td>\n",
       "      <td>28231</td>\n",
       "      <td>3 hab</td>\n",
       "      <td>3 wc</td>\n",
       "      <td>200 m²</td>\n",
       "    </tr>\n",
       "    <tr>\n",
       "      <th>1</th>\n",
       "      <td>558.000€</td>\n",
       "      <td>28232</td>\n",
       "      <td>3 hab</td>\n",
       "      <td>2 wc</td>\n",
       "      <td>185 m²</td>\n",
       "    </tr>\n",
       "    <tr>\n",
       "      <th>2</th>\n",
       "      <td>326.000€</td>\n",
       "      <td>Comunidad de Madrid \\n</td>\n",
       "      <td>8 hab</td>\n",
       "      <td>5 wc</td>\n",
       "      <td>179 m²</td>\n",
       "    </tr>\n",
       "    <tr>\n",
       "      <th>3</th>\n",
       "      <td>695.000€</td>\n",
       "      <td>28023</td>\n",
       "      <td>3 hab</td>\n",
       "      <td>2 wc</td>\n",
       "      <td>164 m²</td>\n",
       "    </tr>\n",
       "    <tr>\n",
       "      <th>4</th>\n",
       "      <td>1.190.000€</td>\n",
       "      <td>Comunidad de Madrid \\n</td>\n",
       "      <td>4 hab</td>\n",
       "      <td>4 wc</td>\n",
       "      <td>200 m²</td>\n",
       "    </tr>\n",
       "    <tr>\n",
       "      <th>...</th>\n",
       "      <td>...</td>\n",
       "      <td>...</td>\n",
       "      <td>...</td>\n",
       "      <td>...</td>\n",
       "      <td>...</td>\n",
       "    </tr>\n",
       "    <tr>\n",
       "      <th>2647</th>\n",
       "      <td>424.000€</td>\n",
       "      <td>Los Berrocales</td>\n",
       "      <td>5 hab</td>\n",
       "      <td>4 wc</td>\n",
       "      <td>200 m²</td>\n",
       "    </tr>\n",
       "    <tr>\n",
       "      <th>2648</th>\n",
       "      <td>980.000€</td>\n",
       "      <td>Comunidad de Madrid \\n</td>\n",
       "      <td>3 hab</td>\n",
       "      <td>3 wc</td>\n",
       "      <td>190 m²</td>\n",
       "    </tr>\n",
       "    <tr>\n",
       "      <th>2649</th>\n",
       "      <td>1.418.000€</td>\n",
       "      <td>Comunidad de Madrid \\n</td>\n",
       "      <td>5 hab</td>\n",
       "      <td>2 wc</td>\n",
       "      <td>180 m²</td>\n",
       "    </tr>\n",
       "    <tr>\n",
       "      <th>2650</th>\n",
       "      <td>955.000€</td>\n",
       "      <td>28023</td>\n",
       "      <td>4 hab</td>\n",
       "      <td>3 wc</td>\n",
       "      <td>185 m²</td>\n",
       "    </tr>\n",
       "    <tr>\n",
       "      <th>2651</th>\n",
       "      <td>585.000€</td>\n",
       "      <td>28005</td>\n",
       "      <td>1 hab</td>\n",
       "      <td>2 wc</td>\n",
       "      <td>198 m²</td>\n",
       "    </tr>\n",
       "  </tbody>\n",
       "</table>\n",
       "<p>2652 rows × 5 columns</p>\n",
       "</div>"
      ],
      "text/plain": [
       "          prices               post_code     rooms bathrooms    size\n",
       "0       495.000€                   28231   3 hab      3 wc    200 m²\n",
       "1       558.000€                   28232   3 hab      2 wc    185 m²\n",
       "2       326.000€  Comunidad de Madrid \\n   8 hab      5 wc    179 m²\n",
       "3       695.000€                   28023   3 hab      2 wc    164 m²\n",
       "4     1.190.000€  Comunidad de Madrid \\n   4 hab      4 wc    200 m²\n",
       "...          ...                     ...       ...       ...     ...\n",
       "2647    424.000€          Los Berrocales   5 hab      4 wc    200 m²\n",
       "2648    980.000€  Comunidad de Madrid \\n   3 hab      3 wc    190 m²\n",
       "2649  1.418.000€  Comunidad de Madrid \\n   5 hab      2 wc    180 m²\n",
       "2650    955.000€                   28023   4 hab      3 wc    185 m²\n",
       "2651    585.000€                   28005   1 hab      2 wc    198 m²\n",
       "\n",
       "[2652 rows x 5 columns]"
      ]
     },
     "execution_count": 146,
     "metadata": {},
     "output_type": "execute_result"
    }
   ],
   "source": [
    "df_mad_160_200"
   ]
  },
  {
   "cell_type": "code",
   "execution_count": 147,
   "metadata": {},
   "outputs": [],
   "source": [
    "#Concatenate all dataframes into one with all the houses in Madrid\n",
    "df_mad_over100k=pd.concat([df_mad_30_50,df_mad_50_60,df_mad_60_70,df_mad_70_75,df_mad_75_80,df_mad_80_85,df_mad_85_90,df_mad_90_95,df_mad_95_100,df_mad_100_105,df_mad_105_110,df_mad_110_120,df_mad_120_140,df_mad_140_160,df_mad_160_200])"
   ]
  },
  {
   "cell_type": "code",
   "execution_count": 148,
   "metadata": {},
   "outputs": [],
   "source": [
    "#Cleaning data to delete spaces and wrong post codes\n",
    "\n",
    "df_mad_over100k.post_code=df_mad_over100k.post_code.str.strip()\n",
    "\n",
    "df_mad_over100k.loc[df_mad_over100k['post_code'].str.contains('a'),['post_code']]='0'\n",
    "df_mad_over100k.loc[df_mad_over100k['post_code'].str.contains('e'),['post_code']]='0'\n",
    "df_mad_over100k.loc[df_mad_over100k['post_code'].str.contains('i'),['post_code']]='0'\n",
    "df_mad_over100k.loc[df_mad_over100k['post_code'].str.contains('o'),['post_code']]='0'\n",
    "df_mad_over100k.loc[df_mad_over100k['post_code'].str.contains('u'),['post_code']]='0'\n",
    "df_mad_over100k.loc[df_mad_over100k['post_code'].str.contains('á'),['post_code']]='0'\n",
    "df_mad_over100k.loc[df_mad_over100k['post_code'].str.contains('é'),['post_code']]='0'\n",
    "df_mad_over100k.loc[df_mad_over100k['post_code'].str.contains('í'),['post_code']]='0'\n",
    "df_mad_over100k.loc[df_mad_over100k['post_code'].str.contains('ó'),['post_code']]='0'\n",
    "df_mad_over100k.loc[df_mad_over100k['post_code'].str.contains('ú'),['post_code']]='0'\n",
    "df_mad_over100k.loc[df_mad_over100k['post_code'].str.contains('A'),['post_code']]='0'\n"
   ]
  },
  {
   "cell_type": "code",
   "execution_count": 149,
   "metadata": {},
   "outputs": [],
   "source": [
    "df_mad_over100k['post_code']=df_mad_over100k['post_code'].astype(int)"
   ]
  },
  {
   "cell_type": "code",
   "execution_count": 159,
   "metadata": {},
   "outputs": [],
   "source": [
    "#Save to csv\n",
    "df_mad_over100k.to_csv(r'/Users/pablogoya/Documents/Master DS/TFM/df_mad_over100k.csv')"
   ]
  },
  {
   "cell_type": "markdown",
   "metadata": {},
   "source": [
    "Reading the postcodes file to get latlons of the centre of each post code"
   ]
  },
  {
   "cell_type": "code",
   "execution_count": 88,
   "metadata": {},
   "outputs": [],
   "source": [
    "post_codes_spain=pd.read_csv('latlons_by_postcode_madrid.csv',sep=',')"
   ]
  },
  {
   "cell_type": "code",
   "execution_count": 205,
   "metadata": {},
   "outputs": [],
   "source": [
    "df_mad_over100k=pd.read_csv('df_mad_over100k.csv')"
   ]
  },
  {
   "cell_type": "code",
   "execution_count": 90,
   "metadata": {},
   "outputs": [
    {
     "data": {
      "text/plain": [
       "Index(['provincia', 'poblacion', 'codigopostalid', 'lat', 'lon'], dtype='object')"
      ]
     },
     "execution_count": 90,
     "metadata": {},
     "output_type": "execute_result"
    }
   ],
   "source": [
    "post_codes_spain.columns"
   ]
  },
  {
   "cell_type": "code",
   "execution_count": null,
   "metadata": {},
   "outputs": [],
   "source": [
    "post_codes_spain=post_codes_spain.drop(columns=['provincia'])"
   ]
  },
  {
   "cell_type": "code",
   "execution_count": 151,
   "metadata": {
    "scrolled": false
   },
   "outputs": [
    {
     "data": {
      "text/plain": [
       "Index(['prices', 'post_code', 'rooms', 'bathrooms', 'size'], dtype='object')"
      ]
     },
     "execution_count": 151,
     "metadata": {},
     "output_type": "execute_result"
    }
   ],
   "source": [
    "df_mad_over100k.columns"
   ]
  },
  {
   "cell_type": "code",
   "execution_count": 206,
   "metadata": {},
   "outputs": [],
   "source": [
    "df_mad_over100k=df_mad_over100k.drop(columns=['Unnamed: 0','codigopostalid'])"
   ]
  },
  {
   "cell_type": "code",
   "execution_count": 152,
   "metadata": {
    "scrolled": true
   },
   "outputs": [
    {
     "data": {
      "text/plain": [
       "0        14667\n",
       "28850      602\n",
       "28004      599\n",
       "28006      571\n",
       "28025      563\n",
       "         ...  \n",
       "41710        1\n",
       "28195        1\n",
       "16470        1\n",
       "36202        1\n",
       "28594        1\n",
       "Name: post_code, Length: 337, dtype: int64"
      ]
     },
     "execution_count": 152,
     "metadata": {},
     "output_type": "execute_result"
    }
   ],
   "source": [
    "df_mad_over100k['post_code'].value_counts()"
   ]
  },
  {
   "cell_type": "code",
   "execution_count": 189,
   "metadata": {},
   "outputs": [],
   "source": [
    "df_mad_over100k=df_mad_over100k.merge(post_codes_spain,left_on='post_code',right_on='codigopostalid')"
   ]
  },
  {
   "cell_type": "code",
   "execution_count": 207,
   "metadata": {},
   "outputs": [
    {
     "data": {
      "text/plain": [
       "San Blas               807\n",
       "Alcalá de Henares      756\n",
       "Las Rozas de Madrid    613\n",
       "Torrejón de Ardoz      602\n",
       "Justicia               599\n",
       "                      ... \n",
       "Villar del Olmo          1\n",
       "Lozoya                   1\n",
       "Valdaracete              1\n",
       "Cervera de Buitrago      1\n",
       "Berzosa del Lozoya       1\n",
       "Name: poblacion, Length: 196, dtype: int64"
      ]
     },
     "execution_count": 207,
     "metadata": {},
     "output_type": "execute_result"
    }
   ],
   "source": [
    "df_mad_over100k['poblacion'].value_counts()"
   ]
  },
  {
   "cell_type": "code",
   "execution_count": 155,
   "metadata": {
    "scrolled": true
   },
   "outputs": [],
   "source": [
    "df_mad_over100k=df_mad_over100k.rename(columns={'lat':'lon2','lon':'lat'})"
   ]
  },
  {
   "cell_type": "code",
   "execution_count": 156,
   "metadata": {},
   "outputs": [],
   "source": [
    "df_mad_over100k=df_mad_over100k.rename(columns={'lon2':'lon'})"
   ]
  },
  {
   "cell_type": "code",
   "execution_count": 302,
   "metadata": {
    "scrolled": false
   },
   "outputs": [
    {
     "data": {
      "text/html": [
       "<div>\n",
       "<style scoped>\n",
       "    .dataframe tbody tr th:only-of-type {\n",
       "        vertical-align: middle;\n",
       "    }\n",
       "\n",
       "    .dataframe tbody tr th {\n",
       "        vertical-align: top;\n",
       "    }\n",
       "\n",
       "    .dataframe thead th {\n",
       "        text-align: right;\n",
       "    }\n",
       "</style>\n",
       "<table border=\"1\" class=\"dataframe\">\n",
       "  <thead>\n",
       "    <tr style=\"text-align: right;\">\n",
       "      <th></th>\n",
       "      <th>prices</th>\n",
       "      <th>post_code</th>\n",
       "      <th>rooms</th>\n",
       "      <th>bathrooms</th>\n",
       "      <th>size</th>\n",
       "      <th>poblacion</th>\n",
       "      <th>lon</th>\n",
       "      <th>lat</th>\n",
       "      <th>latlon</th>\n",
       "    </tr>\n",
       "  </thead>\n",
       "  <tbody>\n",
       "    <tr>\n",
       "      <th>0</th>\n",
       "      <td>112,062</td>\n",
       "      <td>28031</td>\n",
       "      <td>1 hab</td>\n",
       "      <td>1 wc</td>\n",
       "      <td>49 m²</td>\n",
       "      <td>Villa Vallecas</td>\n",
       "      <td>-3.687601</td>\n",
       "      <td>40.408412</td>\n",
       "      <td>(40.40841191, -3.68760088)</td>\n",
       "    </tr>\n",
       "    <tr>\n",
       "      <th>1</th>\n",
       "      <td>137,0,0</td>\n",
       "      <td>28031</td>\n",
       "      <td>1 hab</td>\n",
       "      <td>1 wc</td>\n",
       "      <td>32 m²</td>\n",
       "      <td>Villa Vallecas</td>\n",
       "      <td>-3.687601</td>\n",
       "      <td>40.408412</td>\n",
       "      <td>(40.40841191, -3.68760088)</td>\n",
       "    </tr>\n",
       "    <tr>\n",
       "      <th>2</th>\n",
       "      <td>,00,0,0</td>\n",
       "      <td>28031</td>\n",
       "      <td>3 hab</td>\n",
       "      <td>1 wc</td>\n",
       "      <td>48 m²</td>\n",
       "      <td>Villa Vallecas</td>\n",
       "      <td>-3.687601</td>\n",
       "      <td>40.408412</td>\n",
       "      <td>(40.40841191, -3.68760088)</td>\n",
       "    </tr>\n",
       "    <tr>\n",
       "      <th>3</th>\n",
       "      <td>,00,0,0</td>\n",
       "      <td>28031</td>\n",
       "      <td>3 hab</td>\n",
       "      <td>1 wc</td>\n",
       "      <td>48 m²</td>\n",
       "      <td>Villa Vallecas</td>\n",
       "      <td>-3.687601</td>\n",
       "      <td>40.408412</td>\n",
       "      <td>(40.40841191, -3.68760088)</td>\n",
       "    </tr>\n",
       "    <tr>\n",
       "      <th>4</th>\n",
       "      <td>135,0,0</td>\n",
       "      <td>28031</td>\n",
       "      <td>1 hab</td>\n",
       "      <td>1 wc</td>\n",
       "      <td>49 m²</td>\n",
       "      <td>Villa Vallecas</td>\n",
       "      <td>-3.687601</td>\n",
       "      <td>40.408412</td>\n",
       "      <td>(40.40841191, -3.68760088)</td>\n",
       "    </tr>\n",
       "    <tr>\n",
       "      <th>...</th>\n",
       "      <td>...</td>\n",
       "      <td>...</td>\n",
       "      <td>...</td>\n",
       "      <td>...</td>\n",
       "      <td>...</td>\n",
       "      <td>...</td>\n",
       "      <td>...</td>\n",
       "      <td>...</td>\n",
       "      <td>...</td>\n",
       "    </tr>\n",
       "    <tr>\n",
       "      <th>26562</th>\n",
       "      <td>1,0,0,0</td>\n",
       "      <td>28193</td>\n",
       "      <td>4 hab</td>\n",
       "      <td>1 wc</td>\n",
       "      <td>184 m²</td>\n",
       "      <td>Cervera de Buitrago</td>\n",
       "      <td>-3.530471</td>\n",
       "      <td>40.922194</td>\n",
       "      <td>(40.92219447, -3.5304711)</td>\n",
       "    </tr>\n",
       "    <tr>\n",
       "      <th>26563</th>\n",
       "      <td>3,0,0,0</td>\n",
       "      <td>28512</td>\n",
       "      <td>4 hab</td>\n",
       "      <td>2 wc</td>\n",
       "      <td>189 m²</td>\n",
       "      <td>Villar del Olmo</td>\n",
       "      <td>-3.235360</td>\n",
       "      <td>40.336173</td>\n",
       "      <td>(40.33617307, -3.23536001)</td>\n",
       "    </tr>\n",
       "    <tr>\n",
       "      <th>26564</th>\n",
       "      <td>2,0,0,0</td>\n",
       "      <td>28595</td>\n",
       "      <td>4 hab</td>\n",
       "      <td>3 wc</td>\n",
       "      <td>200 m²</td>\n",
       "      <td>Estremera</td>\n",
       "      <td>-3.105883</td>\n",
       "      <td>40.184816</td>\n",
       "      <td>(40.18481639, -3.10588334)</td>\n",
       "    </tr>\n",
       "    <tr>\n",
       "      <th>26565</th>\n",
       "      <td>145,0,0</td>\n",
       "      <td>28595</td>\n",
       "      <td>3 hab</td>\n",
       "      <td>3 wc</td>\n",
       "      <td>200 m²</td>\n",
       "      <td>Estremera</td>\n",
       "      <td>-3.105883</td>\n",
       "      <td>40.184816</td>\n",
       "      <td>(40.18481639, -3.10588334)</td>\n",
       "    </tr>\n",
       "    <tr>\n",
       "      <th>26566</th>\n",
       "      <td>4,0,0,0</td>\n",
       "      <td>28749</td>\n",
       "      <td>3 hab</td>\n",
       "      <td>3 wc</td>\n",
       "      <td>195 m²</td>\n",
       "      <td>Rascafría</td>\n",
       "      <td>-3.880960</td>\n",
       "      <td>40.905666</td>\n",
       "      <td>(40.90566571, -3.88095982)</td>\n",
       "    </tr>\n",
       "  </tbody>\n",
       "</table>\n",
       "<p>26567 rows × 9 columns</p>\n",
       "</div>"
      ],
      "text/plain": [
       "        prices  post_code     rooms bathrooms    size            poblacion  \\\n",
       "0      112,062      28031   1 hab      1 wc     49 m²       Villa Vallecas   \n",
       "1      137,0,0      28031   1 hab      1 wc     32 m²       Villa Vallecas   \n",
       "2      ,00,0,0      28031   3 hab      1 wc     48 m²       Villa Vallecas   \n",
       "3      ,00,0,0      28031   3 hab      1 wc     48 m²       Villa Vallecas   \n",
       "4      135,0,0      28031   1 hab      1 wc     49 m²       Villa Vallecas   \n",
       "...        ...        ...       ...       ...     ...                  ...   \n",
       "26562  1,0,0,0      28193   4 hab      1 wc    184 m²  Cervera de Buitrago   \n",
       "26563  3,0,0,0      28512   4 hab      2 wc    189 m²      Villar del Olmo   \n",
       "26564  2,0,0,0      28595   4 hab      3 wc    200 m²            Estremera   \n",
       "26565  145,0,0      28595   3 hab      3 wc    200 m²            Estremera   \n",
       "26566  4,0,0,0      28749   3 hab      3 wc    195 m²            Rascafría   \n",
       "\n",
       "            lon        lat                      latlon  \n",
       "0     -3.687601  40.408412  (40.40841191, -3.68760088)  \n",
       "1     -3.687601  40.408412  (40.40841191, -3.68760088)  \n",
       "2     -3.687601  40.408412  (40.40841191, -3.68760088)  \n",
       "3     -3.687601  40.408412  (40.40841191, -3.68760088)  \n",
       "4     -3.687601  40.408412  (40.40841191, -3.68760088)  \n",
       "...         ...        ...                         ...  \n",
       "26562 -3.530471  40.922194   (40.92219447, -3.5304711)  \n",
       "26563 -3.235360  40.336173  (40.33617307, -3.23536001)  \n",
       "26564 -3.105883  40.184816  (40.18481639, -3.10588334)  \n",
       "26565 -3.105883  40.184816  (40.18481639, -3.10588334)  \n",
       "26566 -3.880960  40.905666  (40.90566571, -3.88095982)  \n",
       "\n",
       "[26567 rows x 9 columns]"
      ]
     },
     "execution_count": 302,
     "metadata": {},
     "output_type": "execute_result"
    }
   ],
   "source": [
    "df_mad_over100k"
   ]
  },
  {
   "cell_type": "code",
   "execution_count": 217,
   "metadata": {
    "scrolled": true
   },
   "outputs": [
    {
     "name": "stdout",
     "output_type": "stream",
     "text": [
      "<class 'pandas.core.frame.DataFrame'>\n",
      "RangeIndex: 26567 entries, 0 to 26566\n",
      "Data columns (total 8 columns):\n",
      " #   Column     Non-Null Count  Dtype  \n",
      "---  ------     --------------  -----  \n",
      " 0   prices     26567 non-null  object \n",
      " 1   post_code  26567 non-null  int64  \n",
      " 2   rooms      26567 non-null  object \n",
      " 3   bathrooms  26567 non-null  object \n",
      " 4   size       26567 non-null  object \n",
      " 5   poblacion  26567 non-null  object \n",
      " 6   lon        26567 non-null  float64\n",
      " 7   lat        26567 non-null  float64\n",
      "dtypes: float64(2), int64(1), object(5)\n",
      "memory usage: 1.6+ MB\n"
     ]
    }
   ],
   "source": [
    "df_mad_over100k.info()"
   ]
  },
  {
   "cell_type": "code",
   "execution_count": 132,
   "metadata": {},
   "outputs": [],
   "source": [
    "import matplotlib.pyplot as plt"
   ]
  },
  {
   "cell_type": "markdown",
   "metadata": {},
   "source": [
    "Test Scrapper for Trovit with only first 3 pages to see how it works and show first results in a DataFrame"
   ]
  },
  {
   "cell_type": "code",
   "execution_count": null,
   "metadata": {},
   "outputs": [],
   "source": [
    "trvt_scrapper(50,150,3)"
   ]
  }
 ],
 "metadata": {
  "colab": {
   "collapsed_sections": [],
   "name": "FotocasaCrawler.ipynb",
   "provenance": []
  },
  "kernelspec": {
   "display_name": "Python 3",
   "language": "python",
   "name": "python3"
  },
  "language_info": {
   "codemirror_mode": {
    "name": "ipython",
    "version": 3
   },
   "file_extension": ".py",
   "mimetype": "text/x-python",
   "name": "python",
   "nbconvert_exporter": "python",
   "pygments_lexer": "ipython3",
   "version": "3.8.3"
  }
 },
 "nbformat": 4,
 "nbformat_minor": 1
}
